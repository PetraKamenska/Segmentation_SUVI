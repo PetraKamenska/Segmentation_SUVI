{
 "cells": [
  {
   "cell_type": "markdown",
   "id": "51587bda-8693-4f2f-ba33-08b4a676ca74",
   "metadata": {},
   "source": [
    "# Downloading and preprocesing data from SUVI"
   ]
  },
  {
   "cell_type": "markdown",
   "id": "7daa0faa-4e03-4f73-9088-a33ee8c29d40",
   "metadata": {},
   "source": [
    "If needed install astropy"
   ]
  },
  {
   "cell_type": "code",
   "execution_count": null,
   "id": "25085e3d-75a7-4fea-aa17-fcdc898130e6",
   "metadata": {},
   "outputs": [],
   "source": [
    "!pip install astropy"
   ]
  },
  {
   "cell_type": "markdown",
   "id": "9063eedf-abce-45b4-8804-74d3b2529c4e",
   "metadata": {},
   "source": [
    "Import needed libraries"
   ]
  },
  {
   "cell_type": "code",
   "execution_count": null,
   "id": "afe404a5-3f33-4a50-9b5e-d1a7679f2d2c",
   "metadata": {},
   "outputs": [],
   "source": [
    "import subprocess\n",
    "import shutil\n",
    "import os\n",
    "from os import path \n",
    "import numpy as np\n",
    "from astropy.io import fits\n",
    "import matplotlib.pyplot as plt\n",
    "from matplotlib.colors import LogNorm\n",
    "from PIL import Image, ImageDraw"
   ]
  },
  {
   "cell_type": "markdown",
   "id": "3e02ffcd-7161-4c45-bf06-a5e114a02226",
   "metadata": {
    "tags": []
   },
   "source": [
    "## 1. Download data "
   ]
  },
  {
   "cell_type": "markdown",
   "id": "8782817d-6a8d-45f4-9e09-f0a48012c0a1",
   "metadata": {},
   "source": [
    "Download files from the SWPC website from the GOES 16 satellite at wavelength 195. The code goes through all the years, months and days and downloads a file from the whole hour, so 24 files per day. Files are stored in assigned output folder. "
   ]
  },
  {
   "cell_type": "code",
   "execution_count": null,
   "id": "6f5be2fb-1387-4de0-8a1e-e2a856a0c11e",
   "metadata": {},
   "outputs": [],
   "source": [
    "url = 'https://data.ngdc.noaa.gov/platforms/solar-space-observing-satellites/goes/goes16/l2/data/suvi-l2-ci195/'\n",
    "output_folder = './SUVIfits'\n",
    "\n",
    "command = f\"wget -nH -nd -r -np -P {output_folder} -A 'dr_suvi-l2-ci195_g16_s20*T*0000Z_e*.fits' {url}\"\n",
    "subprocess.run(command, shell=True)\n"
   ]
  },
  {
   "cell_type": "markdown",
   "id": "5a30499d-541d-4a10-baf0-c6ad6f56bf0d",
   "metadata": {},
   "source": [
    "## 2. Convert fits to images"
   ]
  },
  {
   "cell_type": "markdown",
   "id": "0c25a7b8-6e37-4995-8165-8c0ada3d8a35",
   "metadata": {},
   "source": [
    "This code processes FITS files stored in a directory fits_folder. It generates corresponding PNG images and saves them in another directory image_folder. Images are generated using logarithmic scaling, where the minimum is set to a constant value of 0.1 and the maximum is dynamically calculated as the 99.9th percentile of the values in the fits file. Images are saved without axis and margins. If exception appears name of file is stored in corruptedfiles.txt."
   ]
  },
  {
   "cell_type": "code",
   "execution_count": null,
   "id": "624c8623-08f5-475b-8f51-e0f32a280693",
   "metadata": {},
   "outputs": [],
   "source": [
    "fits_folder = 'SUVIfits'\n",
    "image_folder = 'SUVIimgs'\n",
    "if not os.path.exists(image_folder):\n",
    "    os.makedirs(image_folder)\n",
    "fits_files = os.listdir(fits_folder)\n",
    "\n",
    "for fits_file in fits_files:\n",
    "    fits_path = os.path.join(fits_folder, fits_file)\n",
    "    \n",
    "    try:\n",
    "        image_data = fits.getdata(fits_path)\n",
    "        image_data = np.flipud(image_data)\n",
    "        image_name = fits_file.replace('.fits', '.png')\n",
    "        image_path = os.path.join(image_folder, image_name)\n",
    "        plt.figure(figsize=(8, 8))\n",
    "        plt.imshow(image_data, cmap='gray', \n",
    "                   norm=LogNorm(vmin=0.1, \n",
    "                                vmax=(np.percentile(image_data, 99.9)).round(5), clip=True),\n",
    "                   extent=[0, image_data.shape[1], image_data.shape[0], 0],\n",
    "                   origin='lower')\n",
    "        plt.axis('off')  \n",
    "        plt.savefig(image_path, bbox_inches='tight', pad_inches=0) \n",
    "        plt.close()\n",
    "        \n",
    "    except Exception as e:\n",
    "        with open('corruptedfiles.txt', 'a') as f:\n",
    "            f.write(fits_file + '\\n')\n",
    "        print(f\"Error for {fits_file}: {str(e)}\")\n"
   ]
  },
  {
   "cell_type": "markdown",
   "id": "6b0fea6c-0c86-4983-9382-36007ee8912b",
   "metadata": {
    "tags": []
   },
   "source": [
    "## 3. Crop and resize image"
   ]
  },
  {
   "cell_type": "markdown",
   "id": "4a4051a5-40ee-4074-bcf5-7f9844e335d0",
   "metadata": {},
   "source": [
    "This code is cropping images (rootPath) based on information extracted from FITS files (fitsPath). Cropped images are saved into dictionary (cropPath). Sun - circle is croped from Image according to coordinates from FITS file. Image dimensions are reduced from 1280 x 1280 to 256 x 256 pixels. The image is black and white. Code also addes white background."
   ]
  },
  {
   "cell_type": "code",
   "execution_count": null,
   "id": "7b216e40-1a89-4b3e-90c6-08ff5ddec106",
   "metadata": {},
   "outputs": [],
   "source": [
    "rootPath = r\"SUVIimgs\"\n",
    "fitsPath = r\"SUVIfits\"\n",
    "cropPath = r\"SUVIcroped\"\n",
    "\n",
    "if not os.path.exists(cropPath):\n",
    "    os.makedirs(cropPath)\n",
    "\n",
    "for root, dirs, files in os.walk(rootPath):\n",
    "    for file in files:\n",
    "        if file.endswith(\".png\"): \n",
    "            image = Image.open(os.path.join(root, \"%s\" % (file)))\n",
    "            filename, extension = os.path.splitext(file)\n",
    "            filename = filename + \".fits\"\n",
    "            for root1, dirs1, files1 in os.walk(fitsPath):\n",
    "                if filename in files1:\n",
    "                    file_path = os.path.join(root1, filename)\n",
    "                    hdul = fits.open(file_path)\n",
    "                    hdr = hdul[1].header\n",
    "\n",
    "                    width = hdr['NAXIS1']\n",
    "                    height = hdr['NAXIS2']\n",
    "                    diameter = hdr['DIAM_SUN']\n",
    "                    radius = diameter / 2\n",
    "                    centerX = hdr['CRPIX1']\n",
    "                    centerY = hdr['CRPIX2']\n",
    "\n",
    "                    image = image.resize((256, 256))\n",
    "                    lum_img = Image.new('L', [width, height], 0)\n",
    "                    draw = ImageDraw.Draw(lum_img)\n",
    "                    draw.ellipse(((centerX - radius), (centerY - radius), (centerX + radius), (centerY + radius)),\n",
    "                                 fill=255, outline=\"white\")\n",
    "                    lum_img_resized = lum_img.resize(image.size)\n",
    "                    white_bg = Image.new(\"RGBA\", [256, 256], \"WHITE\")\n",
    "                    result = Image.composite(image, white_bg, lum_img_resized)\n",
    "                    result.save(os.path.join(cropPath, file))\n"
   ]
  },
  {
   "cell_type": "markdown",
   "id": "8c8d5ab9-66a6-4522-9f35-2ba3f7b3b85f",
   "metadata": {},
   "source": [
    "## 4. Flip data"
   ]
  },
  {
   "cell_type": "markdown",
   "id": "f04a4b12-ee4e-48b5-8c19-a06b4fcc26da",
   "metadata": {},
   "source": [
    "This script flips images (input_folder) vertically (top to bottom) and saves the flipped versions to another directory (output_folder)."
   ]
  },
  {
   "cell_type": "code",
   "execution_count": null,
   "id": "86181c60-90ae-49f4-979a-963819af9f87",
   "metadata": {},
   "outputs": [],
   "source": [
    "input_folder = \"SUVIcroped\"\n",
    "output_folder = \"SUVIfliped\"\n",
    "\n",
    "if not os.path.exists(output_folder):\n",
    "    os.makedirs(output_folder)\n",
    "\n",
    "input_files = os.listdir(input_folder)\n",
    "\n",
    "for filename in input_files:\n",
    "     if filename.endswith((\".jpg\", \".png\", \".jpeg\")):\n",
    "        image = Image.open(os.path.join(input_folder, filename))\n",
    "        flipped_image = image.transpose(Image.FLIP_TOP_BOTTOM)\n",
    "        flipped_image.save(os.path.join(output_folder, filename))\n",
    "\n",
    "print(\"Images flipped and saved to\", output_folder)\n"
   ]
  },
  {
   "cell_type": "markdown",
   "id": "57e8780c-0c75-4577-95b6-d18c6427e39f",
   "metadata": {
    "tags": []
   },
   "source": [
    "## 5. Split data to train and test set"
   ]
  },
  {
   "cell_type": "markdown",
   "id": "622f51c4-b6e6-4d85-8bf1-a98817e4c354",
   "metadata": {},
   "source": [
    "In our work, we also divided the data into training and testing sets. The test set contained data from 2022 and the training set contained all remaining years."
   ]
  },
  {
   "cell_type": "code",
   "execution_count": null,
   "id": "119f35a9-e957-40fd-b781-e79df05f47bc",
   "metadata": {},
   "outputs": [],
   "source": [
    "source_folder = \"./SUVIfliped/\"\n",
    "\n",
    "folder_test = \"./SUVItest/\"\n",
    "folder_train = \"./SUVItrain/\"\n",
    "\n",
    "for folder in [folder_test, folder_train]:\n",
    "    if not os.path.exists(folder):\n",
    "        os.makedirs(folder)\n",
    "for filename in os.listdir(source_folder):\n",
    "    current_path = os.path.join(source_folder, filename)\n",
    "    if os.path.isfile(current_path):\n",
    "        if \"s2022\" in filename:\n",
    "            destination_folder = folder_test\n",
    "        elif any(year in filename for year in [\"s2019\", \"s2020\", \"s2021\", \"s2023\"]):\n",
    "            destination_folder = folder_train\n",
    "        else:\n",
    "            print(f\"File {filename} doesn't match criteria. Skipping.\")\n",
    "            continue\n",
    "\n",
    "        destination_path = os.path.join(destination_folder, filename)\n",
    "        shutil.copy(current_path, destination_path)\n",
    "\n",
    "print(\"File copying completed.\")\n"
   ]
  }
 ],
 "metadata": {
  "kernelspec": {
   "display_name": "Python 3 (ipykernel)",
   "language": "python",
   "name": "python3"
  },
  "language_info": {
   "codemirror_mode": {
    "name": "ipython",
    "version": 3
   },
   "file_extension": ".py",
   "mimetype": "text/x-python",
   "name": "python",
   "nbconvert_exporter": "python",
   "pygments_lexer": "ipython3",
   "version": "3.10.6"
  }
 },
 "nbformat": 4,
 "nbformat_minor": 5
}
