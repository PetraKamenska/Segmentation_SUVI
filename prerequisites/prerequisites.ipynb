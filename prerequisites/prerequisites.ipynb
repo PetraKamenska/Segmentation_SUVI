{
 "cells": [
  {
   "cell_type": "markdown",
   "metadata": {},
   "source": [
    "## Prerequisites\n",
    "In this notebook, we provide information on how to install necessary python libraries and download all preprocessed data that is needed for this project.   "
   ]
  },
  {
   "cell_type": "markdown",
   "metadata": {},
   "source": [
    "## REQUIREMENTS\n",
    "\n",
    "firstly, we recommend you to create a **python virtual enviroment**.     \n",
    "You can open terminal in your IDE and navigate to the working directory.   \n",
    "Use this command to create one.  \n",
    "```console\n",
    "python -m venv venv\n",
    "``` \n",
    "then just select this enviroment in your IDE\n"
   ]
  },
  {
   "cell_type": "code",
   "execution_count": null,
   "metadata": {},
   "outputs": [],
   "source": [
    "# if you have created a PVE, you can install required libraries by uncommenting code bellow\n",
    "# !pip install -r requirements.txt"
   ]
  },
  {
   "cell_type": "markdown",
   "metadata": {},
   "source": [
    "## GETTING DATA"
   ]
  },
  {
   "cell_type": "markdown",
   "metadata": {},
   "source": [
    "We will download following:\n",
    "- train dataset (mix of SUVI, SDO and SOHO data) for CH, used to train SCSS-Net\n",
    "- test dataset SUVI for CH, used to evaluate SCSS-Net.  \n",
    "- test dataset SDO for CH, used to evaluate SCSS-Net.\n",
    "- test dataset SOHO for CH, used to evaluate SCSS-Net.\n",
    "    \n",
    "And then prepared dataset:   \n",
    "- 195A prepared images 2019-2023\n",
    "    \n",
    "You can download those data with this links:\n",
    "https://mega.nz/folder/1yth1DCQ#avcjiND5aNu13mEAHM6z_A\n",
    "\n",
    "- Dataset:\n",
    "https://mega.nz/file/An1HCRRb#J-sZfv8mMf_eT5ByrdUVZxPZRfXYLXZsKFWmTO-BlGI\n",
    "```\n",
    ".\n",
    "├── SUVIdata     \n",
    "│   ├── dataset_imgs  \n",
    "```\n",
    "- Train Data:\n",
    "https://mega.nz/file/IrVSAboQ#VZWvPjst4bFIPjda5sqzVnEctJAc8uh1IEhObkRjcFU\n",
    "```\n",
    ".\n",
    "├── SUVIdata     \n",
    "│   ├── train_SUVI_SDO_SOHO\n",
    "│   │   ├── imgs \n",
    "│   │   ├── masks\n",
    "```\n",
    "- Test Data SUVI:\n",
    "https://mega.nz/file/h71SiQAT#rZOARBxjo9oQd8-BDy1bl8--cv3KY5e9ngpUuFoKcYc\n",
    "```\n",
    ".\n",
    "├── SUVIdata     \n",
    "│   ├── test_SUVI\n",
    "│   │   ├── imgs \n",
    "│   │   ├── masks\n",
    "```\n",
    "- Test Data SDO:\n",
    "https://mega.nz/file/sOBGiTwR#fjvzvxoLDFDKLv8EtLPBGqPUCo_T_I7y8f14n4eGu94\n",
    "```\n",
    ".\n",
    "├── 193   \n",
    "│   ├── 193_test      \n",
    "│   │   ├── imgs     \n",
    "│   │   ├── masks(region)\n",
    "│   │   ├── masks(spoca)\n",
    "```\n",
    "- Test Data SOHO:\n",
    "https://mega.nz/folder/M9klWZxK#QbxQMxVMCMtXS6nNzCtE7A/folder/A8c2xDgA\n",
    "```\n",
    ".\n",
    "├── data     \n",
    "│   ├── train_test_data       \n",
    "│   │   ├── CH_test_imgs     \n",
    "│   │   ├── CH_test_masks\n",
    "```  \n",
    "After downloading them, move them to prepared **data** folder in workspace and **unzip** them.   \n",
    "\n",
    "You can change file names, but you will also have to change paths in code.\n",
    "\n"
   ]
  },
  {
   "cell_type": "markdown",
   "metadata": {},
   "source": []
  }
 ],
 "metadata": {
  "kernelspec": {
   "display_name": "Python 3 (ipykernel)",
   "language": "python",
   "name": "python3"
  },
  "language_info": {
   "codemirror_mode": {
    "name": "ipython",
    "version": 3
   },
   "file_extension": ".py",
   "mimetype": "text/x-python",
   "name": "python",
   "nbconvert_exporter": "python",
   "pygments_lexer": "ipython3",
   "version": "3.10.6"
  }
 },
 "nbformat": 4,
 "nbformat_minor": 4
}
